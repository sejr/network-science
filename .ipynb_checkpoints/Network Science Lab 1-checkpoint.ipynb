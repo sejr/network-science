{
 "cells": [
  {
   "cell_type": "markdown",
   "metadata": {},
   "source": [
    "# CSE 5245\n",
    "## Network Science — Lab 1\n",
    "\n",
    "*4 February 2018*\n",
    "\n",
    "The purpose of this lab is to become acquainted with the **networkx** graph analysis module, and see real-world examples of common measures of centrality. Four data sets were selected from the Stanford Network Analysis Project, and centrality measures were computed for each of the nodes in these data sets.\n",
    "\n",
    "This Jupyter notebook is meant to be executed from within the **netsci** Conda virtual environment. It is based on Python 2.7.14 and provides access to the networkx and matplotlib modules."
   ]
  },
  {
   "cell_type": "code",
   "execution_count": 69,
   "metadata": {
    "collapsed": true
   },
   "outputs": [],
   "source": [
    "import time\n",
    "import random\n",
    "import networkx as nx\n",
    "import matplotlib.pyplot as plt"
   ]
  },
  {
   "cell_type": "markdown",
   "metadata": {},
   "source": [
    "# wiki-Vote\n",
    "\n",
    "### http://snap.stanford.edu/data/wiki-Vote.html\n",
    "\n",
    "Wikipedia is a free encyclopedia written collaboratively by volunteers around the world. A small part of Wikipedia contributors are administrators, who are users with access to additional technical features that aid in maintenance. In order for a user to become an administrator a Request for adminship (RfA) is issued and the Wikipedia community via a public discussion or a vote decides who to promote to adminship. Using the latest complete dump of Wikipedia page edit history (from January 3 2008) we extracted all administrator elections and vote history data. This gave us 2,794 elections with 103,663 total votes and 7,066 users participating in the elections (either casting a vote or being voted on). Out of these 1,235 elections resulted in a successful promotion, while 1,559 elections did not result in the promotion. About half of the votes in the dataset are by existing admins, while the other half comes from ordinary Wikipedia users.\n",
    "\n",
    "The network contains all the Wikipedia voting data from the inception of Wikipedia till January 2008. Nodes in the network represent wikipedia users and a directed edge from node i to node j represents that user i voted on user j."
   ]
  },
  {
   "cell_type": "code",
   "execution_count": 2,
   "metadata": {
    "collapsed": true
   },
   "outputs": [],
   "source": [
    "# Reading wiki-Vote network into a networkx graph\n",
    "wiki_vote = nx.read_edgelist(\"networks/wiki-Vote.txt\")"
   ]
  },
  {
   "cell_type": "code",
   "execution_count": 14,
   "metadata": {},
   "outputs": [
    {
     "name": "stdout",
     "output_type": "stream",
     "text": [
      "0.0124881267548\n"
     ]
    }
   ],
   "source": [
    "begin = time.time()\n",
    "wiki_vote_degree_centrality = nx.degree_centrality(wiki_vote)\n",
    "end = time.time()\n",
    "duration = end - begin\n",
    "print(duration)"
   ]
  },
  {
   "cell_type": "code",
   "execution_count": 16,
   "metadata": {},
   "outputs": [
    {
     "name": "stdout",
     "output_type": "stream",
     "text": [
      "1196.86852193\n"
     ]
    }
   ],
   "source": [
    "begin = time.time()\n",
    "wiki_vote_closeness_centrality = nx.closeness_centrality(wiki_vote)\n",
    "end = time.time()\n",
    "duration = end - begin\n",
    "print(duration)"
   ]
  },
  {
   "cell_type": "code",
   "execution_count": 15,
   "metadata": {},
   "outputs": [
    {
     "name": "stdout",
     "output_type": "stream",
     "text": [
      "1609.82250404\n"
     ]
    }
   ],
   "source": [
    "begin = time.time()\n",
    "wiki_vote_betweenness_centrality = nx.betweenness_centrality(wiki_vote)\n",
    "end = time.time()\n",
    "duration = end - begin\n",
    "print(duration)"
   ]
  },
  {
   "cell_type": "code",
   "execution_count": 17,
   "metadata": {},
   "outputs": [
    {
     "name": "stdout",
     "output_type": "stream",
     "text": [
      "10.0353050232\n"
     ]
    }
   ],
   "source": [
    "begin = time.time()\n",
    "wiki_vote_eivgenvector_centrality = nx.eigenvector_centrality(wiki_vote)\n",
    "end = time.time()\n",
    "duration = end - begin\n",
    "print(duration)"
   ]
  },
  {
   "cell_type": "code",
   "execution_count": 18,
   "metadata": {},
   "outputs": [
    {
     "name": "stdout",
     "output_type": "stream",
     "text": [
      "11.0420439243\n"
     ]
    }
   ],
   "source": [
    "begin = time.time()\n",
    "wiki_vote_pagerank_centrality = nx.pagerank(wiki_vote, alpha=0.85)\n",
    "end = time.time()\n",
    "duration = end - begin\n",
    "print(duration)"
   ]
  },
  {
   "cell_type": "code",
   "execution_count": 19,
   "metadata": {},
   "outputs": [
    {
     "name": "stdout",
     "output_type": "stream",
     "text": [
      "6.72606396675\n"
     ]
    }
   ],
   "source": [
    "begin = time.time()\n",
    "wiki_vote_clustering_coefficients = nx.clustering(wiki_vote)\n",
    "end = time.time()\n",
    "duration = end - begin\n",
    "print(duration)"
   ]
  },
  {
   "cell_type": "code",
   "execution_count": 3,
   "metadata": {
    "collapsed": true
   },
   "outputs": [],
   "source": [
    "# Draw the graph using matplotlib.\n",
    "nx.draw(wiki_vote)"
   ]
  },
  {
   "cell_type": "code",
   "execution_count": 4,
   "metadata": {},
   "outputs": [
    {
     "data": {
      "image/png": "[encoded data removed]",
      "text/plain": [
       "<matplotlib.figure.Figure at 0x111160510>"
      ]
     },
     "metadata": {},
     "output_type": "display_data"
    }
   ],
   "source": [
    "# This plot shows that there is a clear cluster of nodes that are rather central in this network.\n",
    "plt.show()"
   ]
  },
  {
   "cell_type": "markdown",
   "metadata": {},
   "source": [
    "# p2p-Gnutella08\n",
    "\n",
    "### http://snap.stanford.edu/data/p2p-Gnutella08.html\n",
    "\n",
    "A sequence of snapshots of the Gnutella peer-to-peer file sharing network from August 2002. There are total of 9 snapshots of Gnutella network collected in August 2002. Nodes represent hosts in the Gnutella network topology and edges represent connections between the Gnutella hosts."
   ]
  },
  {
   "cell_type": "code",
   "execution_count": 20,
   "metadata": {
    "collapsed": true
   },
   "outputs": [],
   "source": [
    "# Reading p2p-Gnutella08 network into a networkx graph\n",
    "gnutella = nx.read_edgelist(\"networks/p2p-Gnutella08.txt\")"
   ]
  },
  {
   "cell_type": "code",
   "execution_count": 23,
   "metadata": {},
   "outputs": [
    {
     "name": "stdout",
     "output_type": "stream",
     "text": [
      "0.0108041763306\n"
     ]
    }
   ],
   "source": [
    "begin = time.time()\n",
    "gnutella_degree_centrality = nx.degree_centrality(gnutella)\n",
    "end = time.time()\n",
    "duration = end - begin\n",
    "print(duration)"
   ]
  },
  {
   "cell_type": "code",
   "execution_count": 24,
   "metadata": {},
   "outputs": [
    {
     "name": "stdout",
     "output_type": "stream",
     "text": [
      "450.171535969\n"
     ]
    }
   ],
   "source": [
    "begin = time.time()\n",
    "gnutella_closeness_centrality = nx.closeness_centrality(gnutella)\n",
    "end = time.time()\n",
    "duration = end - begin\n",
    "print(duration)"
   ]
  },
  {
   "cell_type": "code",
   "execution_count": 25,
   "metadata": {},
   "outputs": [
    {
     "name": "stdout",
     "output_type": "stream",
     "text": [
      "758.492588043\n"
     ]
    }
   ],
   "source": [
    "begin = time.time()\n",
    "gnutella_betweenness_centrality = nx.betweenness_centrality(gnutella)\n",
    "end = time.time()\n",
    "duration = end - begin\n",
    "print(duration)"
   ]
  },
  {
   "cell_type": "code",
   "execution_count": 26,
   "metadata": {},
   "outputs": [
    {
     "name": "stdout",
     "output_type": "stream",
     "text": [
      "5.24636292458\n"
     ]
    }
   ],
   "source": [
    "begin = time.time()\n",
    "gnutella_eivgenvector_centrality = nx.eigenvector_centrality(gnutella)\n",
    "end = time.time()\n",
    "duration = end - begin\n",
    "print(duration)"
   ]
  },
  {
   "cell_type": "code",
   "execution_count": 27,
   "metadata": {},
   "outputs": [
    {
     "name": "stdout",
     "output_type": "stream",
     "text": [
      "3.55510401726\n"
     ]
    }
   ],
   "source": [
    "begin = time.time()\n",
    "gnutella_pagerank_centrality = nx.pagerank(gnutella, alpha=0.85)\n",
    "end = time.time()\n",
    "duration = end - begin\n",
    "print(duration)"
   ]
  },
  {
   "cell_type": "code",
   "execution_count": 28,
   "metadata": {},
   "outputs": [
    {
     "name": "stdout",
     "output_type": "stream",
     "text": [
      "0.466763973236\n"
     ]
    }
   ],
   "source": [
    "begin = time.time()\n",
    "gnutella_clustering_coefficients = nx.clustering(gnutella)\n",
    "end = time.time()\n",
    "duration = end - begin\n",
    "print(duration)"
   ]
  },
  {
   "cell_type": "code",
   "execution_count": 21,
   "metadata": {
    "collapsed": true
   },
   "outputs": [],
   "source": [
    "nx.draw(gnutella)"
   ]
  },
  {
   "cell_type": "code",
   "execution_count": 22,
   "metadata": {},
   "outputs": [
    {
     "data": {
      "image/png": "[encoded data removed]",
      "text/plain": [
       "<matplotlib.figure.Figure at 0x113f6e110>"
      ]
     },
     "metadata": {},
     "output_type": "display_data"
    }
   ],
   "source": [
    "plt.show()"
   ]
  },
  {
   "cell_type": "markdown",
   "metadata": {},
   "source": [
    "# ca-GrQc\n",
    "\n",
    "### http://snap.stanford.edu/data/ca-GrQc.html\n",
    "\n",
    "Arxiv GR-QC (General Relativity and Quantum Cosmology) collaboration network is from the e-print arXiv and covers scientific collaborations between authors papers submitted to General Relativity and Quantum Cosmology category. If an author i co-authored a paper with author j, the graph contains a undirected edge from i to j. If the paper is co-authored by k authors this generates a completely connected (sub)graph on k nodes.\n",
    "\n",
    "The data covers papers in the period from January 1993 to April 2003 (124 months). It begins within a few months of the inception of the arXiv, and thus represents essentially the complete history of its GR-QC section."
   ]
  },
  {
   "cell_type": "code",
   "execution_count": 46,
   "metadata": {
    "collapsed": true
   },
   "outputs": [],
   "source": [
    "# Reading ca-GrQc network into a networkx graph\n",
    "grqc = nx.read_edgelist(\"networks/ca-GrQc.txt\")"
   ]
  },
  {
   "cell_type": "code",
   "execution_count": 43,
   "metadata": {},
   "outputs": [
    {
     "name": "stdout",
     "output_type": "stream",
     "text": [
      "0.00893115997314\n"
     ]
    }
   ],
   "source": [
    "begin = time.time()\n",
    "grqc_degree_centrality = nx.degree_centrality(grqc)\n",
    "end = time.time()\n",
    "duration = end - begin\n",
    "print(duration)"
   ]
  },
  {
   "cell_type": "code",
   "execution_count": 44,
   "metadata": {},
   "outputs": [
    {
     "name": "stdout",
     "output_type": "stream",
     "text": [
      "170.401973009\n"
     ]
    }
   ],
   "source": [
    "begin = time.time()\n",
    "grqc_closeness_centrality = nx.closeness_centrality(grqc)\n",
    "end = time.time()\n",
    "duration = end - begin\n",
    "print(duration)"
   ]
  },
  {
   "cell_type": "code",
   "execution_count": 47,
   "metadata": {},
   "outputs": [
    {
     "name": "stdout",
     "output_type": "stream",
     "text": [
      "254.810570002\n"
     ]
    }
   ],
   "source": [
    "begin = time.time()\n",
    "grqc_betweenness_centrality = nx.betweenness_centrality(grqc)\n",
    "end = time.time()\n",
    "duration = end - begin\n",
    "print(duration)"
   ]
  },
  {
   "cell_type": "code",
   "execution_count": 48,
   "metadata": {},
   "outputs": [
    {
     "name": "stdout",
     "output_type": "stream",
     "text": [
      "4.60945796967\n"
     ]
    }
   ],
   "source": [
    "begin = time.time()\n",
    "grqc_eivgenvector_centrality = nx.eigenvector_centrality(grqc)\n",
    "end = time.time()\n",
    "duration = end - begin\n",
    "print(duration)"
   ]
  },
  {
   "cell_type": "code",
   "execution_count": 49,
   "metadata": {},
   "outputs": [
    {
     "name": "stdout",
     "output_type": "stream",
     "text": [
      "2.54298901558\n"
     ]
    }
   ],
   "source": [
    "begin = time.time()\n",
    "grqc_pagerank_centrality = nx.pagerank(grqc, alpha=0.85)\n",
    "end = time.time()\n",
    "duration = end - begin\n",
    "print(duration)"
   ]
  },
  {
   "cell_type": "code",
   "execution_count": 50,
   "metadata": {},
   "outputs": [
    {
     "name": "stdout",
     "output_type": "stream",
     "text": [
      "0.388206005096\n"
     ]
    }
   ],
   "source": [
    "begin = time.time()\n",
    "grqc_clustering_coefficients = nx.clustering(grqc)\n",
    "end = time.time()\n",
    "duration = end - begin\n",
    "print(duration)"
   ]
  },
  {
   "cell_type": "code",
   "execution_count": 30,
   "metadata": {
    "collapsed": true
   },
   "outputs": [],
   "source": [
    "nx.draw(grqc)"
   ]
  },
  {
   "cell_type": "code",
   "execution_count": 31,
   "metadata": {},
   "outputs": [
    {
     "data": {
      "image/png": "[encoded data removed]",
      "text/plain": [
       "<matplotlib.figure.Figure at 0x113dd1090>"
      ]
     },
     "metadata": {},
     "output_type": "display_data"
    }
   ],
   "source": [
    "plt.show()"
   ]
  },
  {
   "cell_type": "markdown",
   "metadata": {},
   "source": [
    "# egonets-Facebook\n",
    "\n",
    "### http://snap.stanford.edu/data/egonets-Facebook.html\n",
    "\n",
    "This dataset consists of 'circles' (or 'friends lists') from Facebook. Facebook data was collected from survey participants using this Facebook app. The dataset includes node features (profiles), circles, and ego networks.\n",
    "\n",
    "Facebook data has been anonymized by replacing the Facebook-internal ids for each user with a new value. Also, while feature vectors from this dataset have been provided, the interpretation of those features has been obscured. For instance, where the original dataset may have contained a feature \"political=Democratic Party\", the new data would simply contain \"political=anonymized feature 1\". Thus, using the anonymized data it is possible to determine whether two users have the same political affiliations, but not what their individual political affiliations represent."
   ]
  },
  {
   "cell_type": "code",
   "execution_count": 51,
   "metadata": {
    "collapsed": true
   },
   "outputs": [],
   "source": [
    "# Reading egonets-Facebook network into a networkx graph\n",
    "fb = nx.read_edgelist(\"networks/egonets-Facebook/facebook_combined.txt\")"
   ]
  },
  {
   "cell_type": "code",
   "execution_count": 54,
   "metadata": {},
   "outputs": [
    {
     "name": "stdout",
     "output_type": "stream",
     "text": [
      "0.00769686698914\n"
     ]
    }
   ],
   "source": [
    "begin = time.time()\n",
    "fb_degree_centrality = nx.degree_centrality(fb)\n",
    "end = time.time()\n",
    "duration = end - begin\n",
    "print(duration)"
   ]
  },
  {
   "cell_type": "code",
   "execution_count": 55,
   "metadata": {},
   "outputs": [
    {
     "name": "stdout",
     "output_type": "stream",
     "text": [
      "498.00731802\n"
     ]
    }
   ],
   "source": [
    "begin = time.time()\n",
    "fb_closeness_centrality = nx.closeness_centrality(fb)\n",
    "end = time.time()\n",
    "duration = end - begin\n",
    "print(duration)"
   ]
  },
  {
   "cell_type": "code",
   "execution_count": 56,
   "metadata": {},
   "outputs": [
    {
     "name": "stdout",
     "output_type": "stream",
     "text": [
      "525.946446896\n"
     ]
    }
   ],
   "source": [
    "begin = time.time()\n",
    "fb_betweenness_centrality = nx.betweenness_centrality(fb)\n",
    "end = time.time()\n",
    "duration = end - begin\n",
    "print(duration)"
   ]
  },
  {
   "cell_type": "code",
   "execution_count": 57,
   "metadata": {},
   "outputs": [
    {
     "name": "stdout",
     "output_type": "stream",
     "text": [
      "19.7486231327\n"
     ]
    }
   ],
   "source": [
    "begin = time.time()\n",
    "fb_eivgenvector_centrality = nx.eigenvector_centrality(fb)\n",
    "end = time.time()\n",
    "duration = end - begin\n",
    "print(duration)"
   ]
  },
  {
   "cell_type": "code",
   "execution_count": 58,
   "metadata": {},
   "outputs": [
    {
     "name": "stdout",
     "output_type": "stream",
     "text": [
      "8.9326608181\n"
     ]
    }
   ],
   "source": [
    "begin = time.time()\n",
    "fb_pagerank_centrality = nx.pagerank(fb, alpha=0.85)\n",
    "end = time.time()\n",
    "duration = end - begin\n",
    "print(duration)"
   ]
  },
  {
   "cell_type": "code",
   "execution_count": 59,
   "metadata": {},
   "outputs": [
    {
     "name": "stdout",
     "output_type": "stream",
     "text": [
      "4.72878885269\n"
     ]
    }
   ],
   "source": [
    "begin = time.time()\n",
    "fb_clustering_coefficients = nx.clustering(fb)\n",
    "end = time.time()\n",
    "duration = end - begin\n",
    "print(duration)"
   ]
  },
  {
   "cell_type": "code",
   "execution_count": 52,
   "metadata": {
    "collapsed": true
   },
   "outputs": [],
   "source": [
    "nx.draw(fb)"
   ]
  },
  {
   "cell_type": "code",
   "execution_count": 53,
   "metadata": {},
   "outputs": [
    {
     "data": {
      "image/png": "[encoded data removed]",
      "text/plain": [
       "<matplotlib.figure.Figure at 0x114a0b290>"
      ]
     },
     "metadata": {},
     "output_type": "display_data"
    }
   ],
   "source": [
    "plt.show()"
   ]
  },
  {
   "cell_type": "markdown",
   "metadata": {},
   "source": [
    "# Results"
   ]
  },
  {
   "cell_type": "code",
   "execution_count": 81,
   "metadata": {},
   "outputs": [
    {
     "name": "stdout",
     "output_type": "stream",
     "text": [
      "{'degree': 0.000281135788585887, 'closeness': 0.2392205081320899, 'clustering_coeff': 0, 'betweenness': 0.00027919910172510983, 'pagerank': 7.509961131249404e-05, 'eigenvector': 1.7177978095615963e-05}\n"
     ]
    }
   ],
   "source": [
    "wiki_results = dict()\n",
    "for node in wiki_vote.nodes():\n",
    "    wiki_results[node] = dict()\n",
    "    wiki_results[node][\"degree\"] = wiki_vote_degree_centrality[node]\n",
    "    wiki_results[node][\"closeness\"] = wiki_vote_closeness_centrality[node]\n",
    "    wiki_results[node][\"betweenness\"] = wiki_vote_betweenness_centrality[node]\n",
    "    wiki_results[node][\"eigenvector\"] = wiki_vote_eivgenvector_centrality[node] # Note typo\n",
    "    wiki_results[node][\"pagerank\"] = wiki_vote_pagerank_centrality[node]\n",
    "    wiki_results[node][\"clustering_coeff\"] = wiki_vote_clustering_coefficients[node]\n",
    "    \n",
    "# Check an example node\n",
    "print(wiki_results[random.choice(wiki_results.keys())])"
   ]
  },
  {
   "cell_type": "code",
   "execution_count": 82,
   "metadata": {},
   "outputs": [
    {
     "name": "stdout",
     "output_type": "stream",
     "text": [
      "{'degree': 0.00031746031746031746, 'closeness': 0.19716900397471612, 'clustering_coeff': 0, 'betweenness': 1.6586489682078567e-05, 'pagerank': 6.907474294342385e-05, 'eigenvector': 6.010444657495739e-05}\n"
     ]
    }
   ],
   "source": [
    "gnutella_results = dict()\n",
    "for node in gnutella.nodes():\n",
    "    gnutella_results[node] = dict()\n",
    "    gnutella_results[node][\"degree\"] = gnutella_degree_centrality[node]\n",
    "    gnutella_results[node][\"closeness\"] = gnutella_closeness_centrality[node]\n",
    "    gnutella_results[node][\"betweenness\"] = gnutella_betweenness_centrality[node]\n",
    "    gnutella_results[node][\"eigenvector\"] = gnutella_eivgenvector_centrality[node] # Note typo\n",
    "    gnutella_results[node][\"pagerank\"] = gnutella_pagerank_centrality[node]\n",
    "    gnutella_results[node][\"clustering_coeff\"] = gnutella_clustering_coefficients[node]\n",
    "    \n",
    "# Check an example node\n",
    "print(gnutella_results[random.choice(gnutella_results.keys())])"
   ]
  },
  {
   "cell_type": "code",
   "execution_count": 83,
   "metadata": {},
   "outputs": [
    {
     "name": "stdout",
     "output_type": "stream",
     "text": [
      "{'degree': 0.0015264262545315779, 'closeness': 0.14507874075408578, 'clustering_coeff': 0.35714285714285715, 'betweenness': 0.0006188463352043561, 'pagerank': 0.00029145703133506585, 'eigenvector': 2.5761756289104044e-07}\n"
     ]
    }
   ],
   "source": [
    "grqc_results = dict()\n",
    "for node in grqc.nodes():\n",
    "    grqc_results[node] = dict()\n",
    "    grqc_results[node][\"degree\"] = grqc_degree_centrality[node]\n",
    "    grqc_results[node][\"closeness\"] = grqc_closeness_centrality[node]\n",
    "    grqc_results[node][\"betweenness\"] = grqc_betweenness_centrality[node]\n",
    "    grqc_results[node][\"eigenvector\"] = grqc_eivgenvector_centrality[node] # Note typo\n",
    "    grqc_results[node][\"pagerank\"] = grqc_pagerank_centrality[node]\n",
    "    grqc_results[node][\"clustering_coeff\"] = grqc_clustering_coefficients[node]\n",
    "    \n",
    "# Check an example node\n",
    "print(grqc_results[random.choice(grqc_results.keys())])"
   ]
  },
  {
   "cell_type": "code",
   "execution_count": 84,
   "metadata": {},
   "outputs": [
    {
     "name": "stdout",
     "output_type": "stream",
     "text": [
      "{'degree': 0.0024764735017335313, 'closeness': 0.23934562266611345, 'clustering_coeff': 0.5777777777777777, 'betweenness': 5.134030720535343e-07, 'pagerank': 0.00014926180295235901, 'eigenvector': 6.688022885921533e-10}\n"
     ]
    }
   ],
   "source": [
    "fb_results = dict()\n",
    "for node in fb.nodes():\n",
    "    fb_results[node] = dict()\n",
    "    fb_results[node][\"degree\"] = fb_degree_centrality[node]\n",
    "    fb_results[node][\"closeness\"] = fb_closeness_centrality[node]\n",
    "    fb_results[node][\"betweenness\"] = fb_betweenness_centrality[node]\n",
    "    fb_results[node][\"eigenvector\"] = fb_eivgenvector_centrality[node] # Note typo\n",
    "    fb_results[node][\"pagerank\"] = fb_pagerank_centrality[node]\n",
    "    fb_results[node][\"clustering_coeff\"] = fb_clustering_coefficients[node]\n",
    "    \n",
    "# Check an example node\n",
    "print(fb_results[random.choice(fb_results.keys())])"
   ]
  },
  {
   "cell_type": "code",
   "execution_count": 104,
   "metadata": {},
   "outputs": [
    {
     "name": "stdout",
     "output_type": "stream",
     "text": [
      "Degree: 0.001055\n",
      "Closeness: 0.106301\n",
      "Betweenness: 0.000606\n",
      "Eigenvector: 0.001615\n",
      "Pagerank: 0.000191\n",
      "Clustering: 0.529636\n"
     ]
    }
   ],
   "source": [
    "# Average values\n",
    "def get_averages(result_dict):\n",
    "    averages = dict()\n",
    "    averages[\"degree\"] = sum([item[\"degree\"] for item in result_dict.values()]) / len(result_dict.values())\n",
    "    averages[\"closeness\"] = sum([item[\"closeness\"] for item in result_dict.values()]) / len(result_dict.values())\n",
    "    averages[\"betweenness\"] = sum([item[\"betweenness\"] for item in result_dict.values()]) / len(result_dict.values())\n",
    "    averages[\"eigenvector\"] = sum([item[\"eigenvector\"] for item in result_dict.values()]) / len(result_dict.values())\n",
    "    averages[\"pagerank\"] = sum([item[\"pagerank\"] for item in result_dict.values()]) / len(result_dict.values())\n",
    "    averages[\"clustering_coeff\"] = sum([item[\"clustering_coeff\"] for item in result_dict.values()]) / len(result_dict.values())\n",
    "    return averages\n",
    "\n",
    "def print_averages(avgs):\n",
    "    print(\"Degree: \" + str(round(avgs[\"degree\"], 6)))\n",
    "    print(\"Closeness: \" + str(round(avgs[\"closeness\"], 6)))\n",
    "    print(\"Betweenness: \" + str(round(avgs[\"betweenness\"], 6)))\n",
    "    print(\"Eigenvector: \" + str(round(avgs[\"eigenvector\"], 6)))\n",
    "    print(\"Pagerank: \" + str(round(avgs[\"pagerank\"], 6)))\n",
    "    print(\"Clustering: \" + str(round(avgs[\"clustering_coeff\"], 6)))\n",
    "    \n",
    "print_averages(get_averages(grqc_results))"
   ]
  },
  {
   "cell_type": "code",
   "execution_count": null,
   "metadata": {
    "collapsed": true
   },
   "outputs": [],
   "source": []
  }
 ],
 "metadata": {
  "kernelspec": {
   "display_name": "Python 2",
   "language": "python",
   "name": "python2"
  },
  "language_info": {
   "codemirror_mode": {
    "name": "ipython",
    "version": 2
   },
   "file_extension": ".py",
   "mimetype": "text/x-python",
   "name": "python",
   "nbconvert_exporter": "python",
   "pygments_lexer": "ipython2",
   "version": "2.7.14"
  }
 },
 "nbformat": 4,
 "nbformat_minor": 2
}
